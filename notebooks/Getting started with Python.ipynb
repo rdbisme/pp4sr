{
 "cells": [
  {
   "cell_type": "markdown",
   "metadata": {},
   "source": [
    "# Python Programming for Scientific Research\n",
    "Ruben Di Battista<br/> \n",
    "http://rdb.is<br/>\n",
    "@RdB91 (Telegram)<br/>\n",
    "@rubendibattista (Twitter)<br/>"
   ]
  },
  {
   "cell_type": "markdown",
   "metadata": {},
   "source": [
    "<center>![python-logo](img/python-logo.png)</center>\n",
    "\n",
    "Python is powerful... and fast; \n",
    "plays well with others; \n",
    "runs everywhere; \n",
    "is friendly & easy to learn; \n",
    "is **Open**."
   ]
  },
  {
   "cell_type": "markdown",
   "metadata": {},
   "source": [
    "And these slides are actually... **alive**, and obviously made in Python! You will find the sources at: https://gitlab.com/rubendibattista/pp4sr (**P**ython **P**rogramming **for** **S**cientific **R**esearch - **PP4SR** | Name is Beta version)"
   ]
  },
  {
   "cell_type": "code",
   "execution_count": null,
   "metadata": {},
   "outputs": [],
   "source": [
    "3 + 2"
   ]
  }
 ],
 "metadata": {
  "language_info": {
   "name": "python",
   "pygments_lexer": "ipython3"
  }
 },
 "nbformat": 4,
 "nbformat_minor": 2
}
