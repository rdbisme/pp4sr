{
 "cells": [
  {
   "cell_type": "markdown",
   "metadata": {
    "slideshow": {
     "slide_type": "slide"
    }
   },
   "source": [
    "# Python Programming for Scientific Research\n",
    "Ruben Di Battista, Julien Christophe<br/> \n",
    "<center>![python-logo](img/python-logo.png)</center>\n",
    "This course aim at giving an overview of python capabilities for scientific computing and is not a programming course by itself ... even if some programming examples will be given..."
   ]
  },
  {
   "cell_type": "markdown",
   "metadata": {
    "slideshow": {
     "slide_type": "slide"
    }
   },
   "source": [
    "<center>![python-logo](img/python-logo.png)</center>\n",
    "\n",
    "Python in few words:<br/> \n",
    "* Widely used high-level programming language for genneral purposes\n",
    "* Emphasis on code readability (indentation, ...) as being an interpreted language with simple syntax\n",
    "* Dynamic type and automatic memory management\n",
    "* Large standard library and very-large additional libraries/packages !\n",
    "* Available on many operating systems\n",
    "* **Open source ! **\n",
    "\n",
    "https://en.wikipedia.org/wiki/Python_(programming_language)"
   ]
  },
  {
   "cell_type": "markdown",
   "metadata": {
    "slideshow": {
     "slide_type": "slide"
    }
   },
   "source": [
    "And these slides are actually... **alive**, and obviously made in Python!<br/> \n",
    "You will find the sources at: https://gitlab.com/rubendibattista/pp4sr (**P**ython **P**rogramming **for** **S**cientific **R**esearch - **PP4SR** | Name is Beta version)"
   ]
  },
  {
   "cell_type": "code",
   "execution_count": 2,
   "metadata": {},
   "outputs": [
    {
     "data": {
      "text/plain": [
       "10"
      ]
     },
     "execution_count": 2,
     "metadata": {},
     "output_type": "execute_result"
    }
   ],
   "source": [
    "3 + 7"
   ]
  },
  {
   "cell_type": "markdown",
   "metadata": {
    "slideshow": {
     "slide_type": "slide"
    }
   },
   "source": [
    "## Python used as programming language\n",
    "<center><img src=\"img/python-use.jpg\" style=\"max-width:100%; width: 50%\"></center>\n",
    "Source: http://www.zdnet.com/article/which-programming-languages-are-most-popular-and-what-does-that-even-mean/"
   ]
  },
  {
   "cell_type": "markdown",
   "metadata": {
    "slideshow": {
     "slide_type": "slide"
    }
   },
   "source": [
    "## Python vs. Matlab ecosystems\n",
    "<center><img src=\"img/pythonvsmatlab.png\" style=\"max-width:100%; width: 80%\"></center>\n",
    "Source: http://www.pyzo.org/python_vs_matlab.html"
   ]
  },
  {
   "cell_type": "markdown",
   "metadata": {
    "slideshow": {
     "slide_type": "slide"
    }
   },
   "source": [
    "## Why Python for scientific computing ?\n",
    "* **Licensing**: Python is Open-Source. You can get it for free. You have access to all implementation details in the source code.\n",
    "* **Programming language**: Python was created to be a generic language that is easy to read while Matlab started as a matrix manipulation package on which a programming language has been added.\n",
    "* **Interpreted**: No need to compile the code, you see directly the results\n",
    "* **Packages**: Matlab has a large amount of functionnalities but Python has almost all equivalents, for which the syntax for use is really similar (see also next slide).\n",
    "* **Object Oriented**: Good system for packaging and re-use of code. This often results in more transparent, maintainable and bug-free code\n"
   ]
  },
  {
   "cell_type": "markdown",
   "metadata": {
    "slideshow": {
     "slide_type": "slide"
    }
   },
   "source": [
    "## Why Python for scientific computing ?\n",
    "* **Portability**: In Matlab, if the other user do not have Matlab, you can compile it and use the Matlab Component Runtime (MCR), but the version should be exactly the same. As python is available on any platform for free, portability is much easier.\n",
    "* **Documentation**: Almost all packages have a good documentation, that is mostly directly written in the code. Tools (like Sphinx) are available to generate a webpage/pdf with the documentation of your code\n",
    "* **Community**: Python has a more and more strong position in scientific computating, resulting a large community of users and easy find of help.\n",
    "* **Performances**: Comparable as many Numpy basic operations, for example, are implemented in C to increase performances. Furthermore, there are libraries available to increase the performances of your code.\n",
    "* ** Wrappers**: Well known libraires in other languages (C, C++, ...) have now a python wrapper to be usable directly in Python (as VTK, Qt, ...)"
   ]
  },
  {
   "cell_type": "markdown",
   "metadata": {
    "slideshow": {
     "slide_type": "slide"
    }
   },
   "source": [
    "## Python packages/libraries\n",
    "Python comes with a standard library that include already a large number of functionalities: <br/>\n",
    "https://docs.python.org/3/library/index.html <br/>\n",
    "but still reduced compared to Matlab (decreasing loading time at opening)<br/>\n",
    "\n",
    "All other specific packages are imported in your python terminal or script, allowing the use of the same function name from different packages and the import of the used packages only !\n"
   ]
  },
  {
   "cell_type": "code",
   "execution_count": 4,
   "metadata": {},
   "outputs": [
    {
     "name": "stdout",
     "output_type": "stream",
     "text": [
      "[ 1.   1.5  2.   2.5  3.   3.5  4.   4.5  5.   5.5  6. ]\n"
     ]
    }
   ],
   "source": [
    "import numpy as np\n",
    "from scipy import interpolate\n",
    "print(np.linspace(1,6,11))"
   ]
  },
  {
   "cell_type": "markdown",
   "metadata": {
    "slideshow": {
     "slide_type": "slide"
    }
   },
   "source": [
    "## Packages for scientific computing with Python\n",
    "\n",
    "* **NumPy**: Numerical computing with powerfull numerical arrays objects, and routines to manipulate them (http://www.numpy.org/)\n",
    "* **SciPy**:  Collection of numerical algorithms and domain-specific toolboxes, including signal processing, optimization, statistics and much more (https://www.scipy.org)\n",
    "* **Pandas**: High-performance, easy to use data structures and data analysis tools (https://pandas.pydata.org/)\n",
    "* **SymPy**:  Symbolic mathematics and computer algebra (http://www.sympy.org/fr/)\n",
    "* **Matplotlib**: Plotting package, that provides publication-quality 2D plotting as well as rudimentary 3D plotting (https://matplotlib.org/)\n",
    "\n",
    "And a large variety of other packages available, mainly open-source:\n",
    "https://wiki.python.org/moin/NumericAndScientific"
   ]
  },
  {
   "cell_type": "markdown",
   "metadata": {
    "slideshow": {
     "slide_type": "slide"
    }
   },
   "source": [
    "## Is Python more complicated than Matlab ?\n",
    "<center><img src=\"img/example_pythonvsmatlab.png\" style=\"max-width:100%; width: 80%\"></center>\n"
   ]
  },
  {
   "cell_type": "markdown",
   "metadata": {
    "slideshow": {
     "slide_type": "slide"
    }
   },
   "source": [
    "## Is Python more complicated than Matlab ?\n",
    "<center><img src=\"img/example_pythonvsmatlab_result.png\" style=\"max-width:100%; width: 80%\"></center>"
   ]
  },
  {
   "cell_type": "markdown",
   "metadata": {
    "slideshow": {
     "slide_type": "slide"
    }
   },
   "source": [
    "## How to install Python\n",
    "Python can be used on several different systems and architectures: \n",
    "- **Windows**: WinPython is giving a you a complete installation in including Spyder (see http://winpython.github.io/)\n",
    "- ** Linux**: Do your own installation from the sources (https://www.python.org/) and add the packages you need (https://pypi.python.org/pypi/pip) or use anaconda for example (see following slides)"
   ]
  },
  {
   "cell_type": "markdown",
   "metadata": {
    "slideshow": {
     "slide_type": "slide"
    }
   },
   "source": [
    "<center><img src=\"img/MATLAB-ide.jpg\" width=\"800\"></center>"
   ]
  },
  {
   "cell_type": "markdown",
   "metadata": {
    "slideshow": {
     "slide_type": "slide"
    }
   },
   "source": [
    "<center><img src=\"img/spyder-ide.png\" width=\"800\"></center>\n",
    "\n"
   ]
  },
  {
   "cell_type": "markdown",
   "metadata": {
    "slideshow": {
     "slide_type": "slide"
    }
   },
   "source": [
    "<center>![anaconda-logo](img/anaconda.svg)</center>\n",
    "\n",
    "The easiest way to install it is to use **Anaconda** (or the stripped version of it `miniconda`). Anaconda ships all the Python environment with all the bells and whistles, with a single, easy-to-run, install script. You also do not need **admin rights**. So enjoy on your `aglins`.🤔🤔🤔"
   ]
  },
  {
   "cell_type": "markdown",
   "metadata": {
    "slideshow": {
     "slide_type": "slide"
    }
   },
   "source": [
    "There are installing instructions for all the platform on the Anaconda website. For example on Linux they provide a bash installer: \n",
    "\n",
    "```\n",
    "zsh Miniconda3-latest-Linux-x86_64.sh\n",
    "``` \n",
    "(I use `zsh` as shell. Yours could be `bash`). \n",
    "\n",
    "On Windows a classical `.exe` installer is provide (but... why? Why Windows?)"
   ]
  },
  {
   "cell_type": "markdown",
   "metadata": {
    "slideshow": {
     "slide_type": "slide"
    }
   },
   "source": [
    "# Configuring a python ninja dev environment"
   ]
  },
  {
   "cell_type": "markdown",
   "metadata": {},
   "source": [
    "## \"Crillin\"-level dev env\n",
    "![crillin](img/crillin.gif)\n",
    "\n",
    "- A Notebook-like text-editor (Well, try to get something better than Window's Notepad. `vim` anyone?)\n",
    "- Nothing else"
   ]
  },
  {
   "cell_type": "markdown",
   "metadata": {},
   "source": [
    "Just write your python code in a file (e.g. `hello_world.py`)"
   ]
  },
  {
   "cell_type": "code",
   "execution_count": 1,
   "metadata": {},
   "outputs": [
    {
     "name": "stdout",
     "output_type": "stream",
     "text": [
      "Hello World\n"
     ]
    }
   ],
   "source": [
    "print(\"Hello World\")"
   ]
  },
  {
   "cell_type": "markdown",
   "metadata": {},
   "source": [
    "Then run it with python: \n",
    "`python hello_world.py`"
   ]
  },
  {
   "cell_type": "markdown",
   "metadata": {
    "slideshow": {
     "slide_type": "slide"
    }
   },
   "source": [
    "## \"Normal Goku\" dev env\n",
    "![goku](img/goku.gif)\n",
    "\n",
    "- An IDE (Atom, Eclipse + pydev, pyCharm)"
   ]
  },
  {
   "cell_type": "markdown",
   "metadata": {
    "slideshow": {
     "slide_type": "slide"
    }
   },
   "source": [
    "## Goku SSJ dev env\n",
    "![goku-ssj](img/goku-ssj.gif)\n",
    "\n",
    "- Use Jupyter and program on your browser!"
   ]
  },
  {
   "cell_type": "markdown",
   "metadata": {
    "slideshow": {
     "slide_type": "slide"
    }
   },
   "source": [
    "## Goku SSJ 3 dev env\n",
    "![goku-ssj3](img/goku-ssj3.gif)\n",
    "- vim (must be compiled with `python` compatibility) + plugins\n",
    "    - YouCompleteMe\n",
    "    - Syntastic\n",
    "    - UltiSnips\n",
    "    - python-mode"
   ]
  },
  {
   "cell_type": "markdown",
   "metadata": {
    "slideshow": {
     "slide_type": "slide"
    }
   },
   "source": [
    "## Last few words on environment\n",
    "Python is made to be used within completely isolated so-called *virtual environments* or **venvs**. Both Python itself (via its package manager `pip` and the package `virtualenv`) or Anaconda can manage them.\n",
    "\n",
    "```\n",
    "conda create --name PCMAF-lab python=3.5 \\\n",
    "<package1> <package2>\n",
    "```"
   ]
  },
  {
   "cell_type": "markdown",
   "metadata": {},
   "source": [
    "You can also install additional packages later\n",
    "\n",
    "```\n",
    "conda install <package3>\n",
    "```"
   ]
  },
  {
   "cell_type": "markdown",
   "metadata": {
    "slideshow": {
     "slide_type": "slide"
    }
   },
   "source": [
    "<center>![py2-vs-py3](img/py2-vs-py3.jpg)\n",
    "\n",
    "source: http://learntocodewith.me"
   ]
  }
 ],
 "metadata": {
  "celltoolbar": "Slideshow",
  "kernelspec": {
   "display_name": "Python 3",
   "language": "python",
   "name": "python3"
  },
  "language_info": {
   "codemirror_mode": {
    "name": "ipython",
    "version": 3
   },
   "file_extension": ".py",
   "mimetype": "text/x-python",
   "name": "python",
   "nbconvert_exporter": "python",
   "pygments_lexer": "ipython3",
   "version": "3.6.3"
  }
 },
 "nbformat": 4,
 "nbformat_minor": 2
}
