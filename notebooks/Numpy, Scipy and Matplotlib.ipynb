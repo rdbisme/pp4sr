{
 "cells": [
  {
   "cell_type": "markdown",
   "metadata": {},
   "source": [
    "# Numpy/Scipy and Matplotlib\n",
    "**NumPy** (pronounced /ˈnʌmpaɪ/ (NUM-py) or sometimes /ˈnʌmpi/ (NUM-pee)) is a library for the Python programming language, adding support for large, multi-dimensional arrays and matrices, along with a large collection of high-level mathematical functions to operate on these arrays.\n",
    "\n",
    "`conda install numpy`"
   ]
  },
  {
   "cell_type": "code",
   "execution_count": null,
   "metadata": {},
   "outputs": [],
   "source": []
  },
  {
   "cell_type": "code",
   "execution_count": null,
   "metadata": {},
   "outputs": [],
   "source": [
    "import numpy as np\n",
    "\n",
    "array = np.array([1, 2, 3, 4])\n",
    "\n",
    "print(array)"
   ]
  },
  {
   "cell_type": "code",
   "execution_count": null,
   "metadata": {},
   "outputs": [],
   "source": [
    "matrix = np.array([\n",
    "    [1, 2, 3, 4], \n",
    "    [1, 2, 3, 4]\n",
    "])\n",
    "\n",
    "print(matrix)"
   ]
  },
  {
   "cell_type": "markdown",
   "metadata": {},
   "source": [
    "## Numpy has C and Fortran compiled modules \n",
    "Let's compare a matrix product $Mb=c$:"
   ]
  },
  {
   "cell_type": "code",
   "execution_count": null,
   "metadata": {},
   "outputs": [],
   "source": [
    "M = np.random.random((1000,1000))\n",
    "print(M.shape)\n",
    "row, col = M.shape\n",
    "b = np.random.random(1000)\n",
    "c = np.empty((1000,1000))"
   ]
  },
  {
   "cell_type": "code",
   "execution_count": null,
   "metadata": {},
   "outputs": [],
   "source": [
    "from time import time\n",
    "start_time = time()\n",
    "for i in range(row):\n",
    "    for j in range(col):\n",
    "        c[i] = b[i]*M[i,j]\n",
    "print(time() - start_time)"
   ]
  },
  {
   "cell_type": "code",
   "execution_count": null,
   "metadata": {},
   "outputs": [],
   "source": [
    "start_time = time()\n",
    "c = M.dot(b)\n",
    "print(time()-start_time)"
   ]
  },
  {
   "cell_type": "markdown",
   "metadata": {},
   "source": [
    "## Numpy saving data to file (in a easy-to load back format)"
   ]
  },
  {
   "cell_type": "markdown",
   "metadata": {},
   "source": [
    "Space separated file"
   ]
  },
  {
   "cell_type": "code",
   "execution_count": null,
   "metadata": {},
   "outputs": [],
   "source": [
    "np.savetxt('results.txt', M[:, :2] )"
   ]
  },
  {
   "cell_type": "markdown",
   "metadata": {},
   "source": [
    "Comma-separated file"
   ]
  },
  {
   "cell_type": "code",
   "execution_count": null,
   "metadata": {},
   "outputs": [],
   "source": [
    "np.savetxt('results.csv', M[:, :2], delimiter=',')"
   ]
  },
  {
   "cell_type": "markdown",
   "metadata": {},
   "source": [
    "You can also add footer and headers:"
   ]
  },
  {
   "cell_type": "code",
   "execution_count": null,
   "metadata": {},
   "outputs": [],
   "source": [
    "header = \"Von Karman Institute for Fluid Dynamics, 2017\"\n",
    "np.savetxt('results.txt', M[:10, :2], header=header)\n",
    "\n",
    "%cat results.txt"
   ]
  },
  {
   "cell_type": "markdown",
   "metadata": {},
   "source": [
    "## Element-wise multiplication"
   ]
  },
  {
   "cell_type": "code",
   "execution_count": null,
   "metadata": {},
   "outputs": [],
   "source": [
    "v1 = np.array([1,1,1])\n",
    "v2 = np.array([2, 2, 2])\n",
    "\n",
    "v1.dot(v2)"
   ]
  },
  {
   "cell_type": "code",
   "execution_count": null,
   "metadata": {},
   "outputs": [],
   "source": [
    "np.multiply(v1, v2)"
   ]
  },
  {
   "cell_type": "markdown",
   "metadata": {},
   "source": [
    "## Linear System resolution:\n",
    "$$\n",
    "    Mx = c\n",
    "$$"
   ]
  },
  {
   "cell_type": "code",
   "execution_count": null,
   "metadata": {},
   "outputs": [],
   "source": [
    "x = np.linalg.solve(M, c)\n",
    "np.linalg.norm(x - b)"
   ]
  },
  {
   "cell_type": "markdown",
   "metadata": {},
   "source": [
    "## Decompositions\n",
    "### Choleski"
   ]
  },
  {
   "cell_type": "code",
   "execution_count": null,
   "metadata": {},
   "outputs": [],
   "source": [
    "A = np.array([\n",
    "    [ 4, 12, -16],\n",
    "    [12, 37, -43],\n",
    "    [-16, -43, 98]])\n",
    "np.linalg.cholesky(A)"
   ]
  },
  {
   "cell_type": "markdown",
   "metadata": {},
   "source": [
    "Also QR and SVD (fancier stuff in `scipy` module)"
   ]
  },
  {
   "cell_type": "markdown",
   "metadata": {},
   "source": [
    "## Eigenvalues\n"
   ]
  },
  {
   "cell_type": "code",
   "execution_count": null,
   "metadata": {},
   "outputs": [],
   "source": [
    "lambdas, V = np.linalg.eig(A)\n",
    "print(\"Eigenvals: {}\".format(lambdas))"
   ]
  },
  {
   "cell_type": "markdown",
   "metadata": {},
   "source": [
    "Matrix must be square. For hermitian you can use `np.linalg.eigh`. For general matrices `np.linalg.eigvals` or hermitian general matrices `np.linalg.eigvalsh`"
   ]
  },
  {
   "cell_type": "markdown",
   "metadata": {},
   "source": [
    "## Fitting"
   ]
  },
  {
   "cell_type": "code",
   "execution_count": null,
   "metadata": {},
   "outputs": [],
   "source": [
    "x = [0, 1, 2, 3]\n",
    "y = [0.01, 1.2, 1.9, 2.7]\n",
    "\n",
    "import matplotlib.pyplot as plt\n",
    "%matplotlib inline\n",
    "\n",
    "plt.plot(x, y, 'o--')"
   ]
  },
  {
   "cell_type": "code",
   "execution_count": null,
   "metadata": {},
   "outputs": [],
   "source": [
    "P = np.polyfit(x, y, 1)\n",
    "plt.plot(x, y, 'o--', label='Original Dataset')\n",
    "plt.plot(x, np.polyval(P, x), label=\"Fitted Line\")\n",
    "plt.xlabel('x')\n",
    "plt.ylabel('y')\n",
    "plt.title('Fitting Example')\n",
    "plt.legend(loc='best')"
   ]
  },
  {
   "cell_type": "code",
   "execution_count": null,
   "metadata": {},
   "outputs": [],
   "source": [
    "P = np.polyfit(x, y, 1)\n",
    "plt.loglog(x, y, 'o--', label='Original Dataset')\n",
    "plt.loglog(x, np.polyval(P, x), label=\"Fitted Line\")\n",
    "plt.xlabel('x')\n",
    "plt.ylabel('y')\n",
    "plt.title('Fitting Example')\n",
    "plt.legend(loc='best')"
   ]
  },
  {
   "cell_type": "markdown",
   "metadata": {},
   "source": [
    "## Root finding \n",
    "$$ y = 3x^3 + 2x^2 + x + 1= 0 $$\n"
   ]
  },
  {
   "cell_type": "code",
   "execution_count": null,
   "metadata": {},
   "outputs": [],
   "source": [
    "points = np.linspace(-10, 10, 100)\n",
    "y = lambda x: 3*x**3 + 3*x**2 +x + 1\n",
    "\n",
    "plt.plot(points, y(points))"
   ]
  },
  {
   "cell_type": "code",
   "execution_count": null,
   "metadata": {},
   "outputs": [],
   "source": [
    "import scipy.optimize as sopt\n",
    "\n",
    "\n",
    "sol = sopt.root(y, -2)\n",
    "x0 = sol.x\n",
    "print(\"Iterations: {}\".format(sol.nfev))\n",
    "\n",
    "sol = sopt.root(y, -2, method='krylov')\n",
    "print(\"Iterations: {}\".format(sol.nit))\n",
    "\n"
   ]
  },
  {
   "cell_type": "code",
   "execution_count": null,
   "metadata": {},
   "outputs": [],
   "source": [
    "plt.plot(points, y(points))\n",
    "plt.xlim([-2.5, 2.5])\n",
    "plt.ylim([-2.5, 2.5])\n",
    "plt.plot(x0, y(x0), 'o', mec='black')\n",
    "plt.grid()\n"
   ]
  },
  {
   "cell_type": "markdown",
   "metadata": {},
   "source": [
    "## ODEs\n",
    "Mass-spring-damper system\n",
    "$$ m\\ddot{x} + c\\dot{x} + kx = f(t)$$"
   ]
  },
  {
   "cell_type": "code",
   "execution_count": null,
   "metadata": {},
   "outputs": [],
   "source": [
    "from scipy.integrate import odeint\n",
    "\n",
    "f = lambda t: np.sin(t)\n",
    "k = 1\n",
    "m = 1\n",
    "c = 1\n",
    "\n",
    "def spring(x, t):\n",
    "    # x[0]: velocity\n",
    "    # x[1]: position\n",
    "    dx = np.empty(2)\n",
    "    dx[0] = f(t) - c*x[0] - k*x[1]\n",
    "    dx[1] = x[0]\n",
    "    \n",
    "    dx.shape\n",
    "    \n",
    "    return dx\n",
    "\n",
    "time_integration = np.linspace(0, 10, 100)\n",
    "x = odeint(spring, np.array([0,1]), time_integration)\n",
    "\n",
    "plt.plot(time_integration, x)\n",
    "plt.xlabel(\"Time [s]\")\n",
    "plt.ylabel(\"Position\")"
   ]
  },
  {
   "cell_type": "markdown",
   "metadata": {},
   "source": [
    "## Symbolic Calculus\n",
    "`conda install sympy`\n",
    "\n"
   ]
  },
  {
   "cell_type": "code",
   "execution_count": null,
   "metadata": {},
   "outputs": [],
   "source": [
    "import sympy\n",
    "\n",
    "sympy.init_printing()\n",
    "x = sympy.symbols('x')\n",
    "I = sympy.Integral(sympy.cos(x)*sympy.exp(x))\n",
    "sympy.Eq(I, I.doit())"
   ]
  },
  {
   "cell_type": "markdown",
   "metadata": {},
   "source": [
    "# There is (much much much) more... (maybe for the next presentation)\n",
    "- Image processing with OpenCV\n",
    "- Optimization\n",
    "- More advanced fitting \n",
    "- Finite Elements with FENICs"
   ]
  },
  {
   "cell_type": "code",
   "execution_count": null,
   "metadata": {},
   "outputs": [],
   "source": []
  }
 ],
 "metadata": {
  "kernelspec": {
   "display_name": "Python 3",
   "language": "python",
   "name": "python3"
  },
  "language_info": {
   "codemirror_mode": {
    "name": "ipython",
    "version": 3
   },
   "file_extension": ".py",
   "mimetype": "text/x-python",
   "name": "python",
   "nbconvert_exporter": "python",
   "pygments_lexer": "ipython3",
   "version": "3.6.3"
  },
  "slideshow": {
   "slide_type": null
  }
 },
 "nbformat": 4,
 "nbformat_minor": 2
}
