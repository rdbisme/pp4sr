{
 "cells": [
  {
   "cell_type": "markdown",
   "metadata": {},
   "source": [
    "# Python Programming for Scientific Research\n",
    "Ruben Di Battista<br/> \n",
    "http://rdb.is<br/>\n",
    "@RdB91 (Telegram)<br/>\n",
    "@rubendibattista (Twitter)<br/>"
   ]
  },
  {
   "cell_type": "markdown",
   "metadata": {},
   "source": [
    "<center>![python-logo](img/python-logo.png)</center>\n",
    "\n",
    "Python is powerful... and fast; \n",
    "plays well with others; \n",
    "runs everywhere; \n",
    "is friendly & easy to learn; \n",
    "is **Open**."
   ]
  },
  {
   "cell_type": "markdown",
   "metadata": {},
   "source": [
    "And these slides are actually... **alive**, and obviously made in Python! You will find the sources at: https://gitlab.com/rubendibattista/pp4sr (**P**ython **P**rogramming **for** **S**cientific **R**esearch - **PP4SR** | Name is Beta version)"
   ]
  },
  {
   "cell_type": "code",
   "execution_count": null,
   "metadata": {},
   "outputs": [],
   "source": [
    "3 + 3"
   ]
  },
  {
   "cell_type": "markdown",
   "metadata": {},
   "source": [
    "## How to install Python\n",
    "Python can be used on several different systems and architectures: \n",
    "- ARM SoCs (Raspberry PI)\n",
    "- x86_64 (Your Pcs)\n",
    "- Embedded microdevices (ESP8266 a 5\\$ Wifi-enabled microcontroller that can run $\\mu$Python firmware)\n",
    "- [...]"
   ]
  },
  {
   "cell_type": "markdown",
   "metadata": {},
   "source": [
    "<center>![anaconda-logo](img/anaconda.svg)</center>\n",
    "\n",
    "The easiest way to install it is to use **Anaconda** (or the stripped version of it `miniconda`). Anaconda ships all the Python environment with all the bells and whistles, with a single, easy-to-run, install script. You also do not need **admin rights**. So enjoy on your `aglins`.🤔🤔🤔"
   ]
  },
  {
   "cell_type": "markdown",
   "metadata": {},
   "source": [
    "There are installing instructions for all the platform on the Anaconda website. For example on Linux they provide a bash installer: \n",
    "\n",
    "```\n",
    "zsh Miniconda3-latest-Linux-x86_64.sh\n",
    "``` \n",
    "(I use `zsh` as shell. Yours could be `bash`). \n",
    "\n",
    "On Windows a classical `.exe` installer is provide (but... why? Why Windows?)"
   ]
  },
  {
   "cell_type": "markdown",
   "metadata": {},
   "source": [
    "# Configuring a python ninja dev environment"
   ]
  },
  {
   "cell_type": "markdown",
   "metadata": {},
   "source": [
    "## \"Crillin\"-level dev env\n",
    "![crillin](img/crillin.gif)\n",
    "\n",
    "- A Notebook-like text-editor (Well, try to get something better than Window's Notepad. `vim` anyone?)\n",
    "- Nothing else"
   ]
  },
  {
   "cell_type": "markdown",
   "metadata": {},
   "source": [
    "Just write your python code in a file (e.g. `hello_world.py`)"
   ]
  },
  {
   "cell_type": "code",
   "execution_count": null,
   "metadata": {},
   "outputs": [],
   "source": [
    "print(\"Hello World\")"
   ]
  },
  {
   "cell_type": "markdown",
   "metadata": {},
   "source": [
    "Then run it with python: \n",
    "`python hello_world.py`"
   ]
  },
  {
   "cell_type": "markdown",
   "metadata": {},
   "source": [
    "## \"Normal Goku\" dev env\n",
    "![goku](img/goku.gif)\n",
    "\n",
    "- An IDE (Atom, Eclipse + pydev, pyCharm)"
   ]
  },
  {
   "cell_type": "markdown",
   "metadata": {},
   "source": [
    "<center><img src=\"img/MATLAB-ide.jpg\" width=\"800\"></center>"
   ]
  },
  {
   "cell_type": "markdown",
   "metadata": {},
   "source": [
    "<center><img src=\"img/spyder-ide.png\" width=\"800\"></center>\n",
    "\n",
    "`conda install spyder`"
   ]
  },
  {
   "cell_type": "markdown",
   "metadata": {},
   "source": [
    "## Goku SSJ dev env\n",
    "![goku-ssj](img/goku-ssj.gif)\n",
    "\n",
    "- Use Jupyter and program on your browser!"
   ]
  },
  {
   "cell_type": "markdown",
   "metadata": {},
   "source": [
    "## Goku SSJ 3 dev env\n",
    "![goku-ssj3](img/goku-ssj3.gif)\n",
    "- vim (must be compiled with `python` compatibility) + plugins\n",
    "    - YouCompleteMe\n",
    "    - Syntastic\n",
    "    - UltiSnips\n",
    "    - python-mode"
   ]
  },
  {
   "cell_type": "markdown",
   "metadata": {},
   "source": [
    "## Last few words on environment\n",
    "Python is made to be used within completely isolated so-called *virtual environments* or **venvs**. Both Python itself (via its package manager `pip` and the package `virtualenv`) or Anaconda can manage them.\n",
    "\n",
    "```\n",
    "conda create --name PCMAF-lab python=3.5 \\\n",
    "<package1> <package2>\n",
    "```"
   ]
  },
  {
   "cell_type": "markdown",
   "metadata": {},
   "source": [
    "You can also install additional packages later\n",
    "\n",
    "```\n",
    "conda install <package3>\n",
    "```"
   ]
  },
  {
   "cell_type": "markdown",
   "metadata": {},
   "source": [
    "<center>![py2-vs-py3](img/py2-vs-py3.jpg)\n",
    "\n",
    "source: http://learntocodewith.me"
   ]
  }
 ],
 "metadata": {
  "language_info": {
   "name": "python",
   "pygments_lexer": "ipython3"
  }
 },
 "nbformat": 4,
 "nbformat_minor": 2
}
