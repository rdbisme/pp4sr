{
 "cells": [
  {
   "cell_type": "markdown",
   "metadata": {},
   "source": [
    "# First steps with Python\n",
    "\n",
    "Python is a intepreted language, so no compilation involved, with dynamic typing (that means that variables can be of whatever type you want)"
   ]
  },
  {
   "cell_type": "code",
   "execution_count": 3,
   "metadata": {},
   "outputs": [
    {
     "name": "stdout",
     "output_type": "stream",
     "text": [
      "RdB\n",
      "1\n",
      "1.0\n"
     ]
    }
   ],
   "source": [
    "name = \"RdB\"\n",
    "print(name)\n",
    "name = 1\n",
    "print(name)\n",
    "name = 1.0\n",
    "print(name)"
   ]
  },
  {
   "cell_type": "markdown",
   "metadata": {},
   "source": [
    "## Types\n",
    "You can check the type of a variable runtime: \n"
   ]
  },
  {
   "cell_type": "code",
   "execution_count": 4,
   "metadata": {},
   "outputs": [
    {
     "data": {
      "text/plain": [
       "float"
      ]
     },
     "execution_count": 4,
     "metadata": {},
     "output_type": "execute_result"
    }
   ],
   "source": [
    "type(name)"
   ]
  },
  {
   "cell_type": "code",
   "execution_count": 5,
   "metadata": {},
   "outputs": [
    {
     "data": {
      "text/plain": [
       "str"
      ]
     },
     "execution_count": 5,
     "metadata": {},
     "output_type": "execute_result"
    }
   ],
   "source": [
    "name = \"RdB\"\n",
    "type(name)"
   ]
  },
  {
   "cell_type": "markdown",
   "metadata": {},
   "source": [
    "## Numbers"
   ]
  },
  {
   "cell_type": "code",
   "execution_count": 6,
   "metadata": {},
   "outputs": [
    {
     "data": {
      "text/plain": [
       "0.5"
      ]
     },
     "execution_count": 6,
     "metadata": {},
     "output_type": "execute_result"
    }
   ],
   "source": [
    "a = 1\n",
    "b = 2\n",
    "a / b"
   ]
  },
  {
   "cell_type": "markdown",
   "metadata": {},
   "source": [
    "## Python2 vs Python3 difference (warning!)"
   ]
  },
  {
   "cell_type": "markdown",
   "metadata": {},
   "source": [
    "Actually if you run this notebook with Python 2, the result of the division we made before will be **0**. Because in Python2 the division between two integers cast to an integer result (so it truncates the result). If you want to recover the same functionality you need to **import** from a special package named `__future__` the new version of the division operator:\n"
   ]
  },
  {
   "cell_type": "code",
   "execution_count": 7,
   "metadata": {},
   "outputs": [
    {
     "data": {
      "text/plain": [
       "0.5"
      ]
     },
     "execution_count": 7,
     "metadata": {},
     "output_type": "execute_result"
    }
   ],
   "source": [
    "from __future__ import division\n",
    "a /b"
   ]
  },
  {
   "cell_type": "markdown",
   "metadata": {},
   "source": [
    "## Strings\n",
    "\n"
   ]
  },
  {
   "cell_type": "code",
   "execution_count": 8,
   "metadata": {},
   "outputs": [
    {
     "data": {
      "text/plain": [
       "'PIKACHU'"
      ]
     },
     "execution_count": 8,
     "metadata": {},
     "output_type": "execute_result"
    }
   ],
   "source": [
    "my_pokemon = \"Pikachu\"\n",
    "\n",
    "my_pokemon.upper()"
   ]
  },
  {
   "cell_type": "code",
   "execution_count": 9,
   "metadata": {},
   "outputs": [
    {
     "data": {
      "text/plain": [
       "'pikachu'"
      ]
     },
     "execution_count": 9,
     "metadata": {},
     "output_type": "execute_result"
    }
   ],
   "source": [
    "my_pokemon.lower()"
   ]
  },
  {
   "cell_type": "markdown",
   "metadata": {},
   "source": [
    "## String Interpolation"
   ]
  },
  {
   "cell_type": "code",
   "execution_count": 10,
   "metadata": {},
   "outputs": [
    {
     "name": "stdout",
     "output_type": "stream",
     "text": [
      "My pokemon name is: Pikachu\n",
      "My pokemon name is: Pikachu\n"
     ]
    }
   ],
   "source": [
    "print(\"My pokemon name is: {}\".format(my_pokemon))\n",
    "print(\"My pokemon name is: {name}\".format(name=my_pokemon))"
   ]
  },
  {
   "cell_type": "code",
   "execution_count": 11,
   "metadata": {},
   "outputs": [
    {
     "name": "stdout",
     "output_type": "stream",
     "text": [
      "The PI value is: 3.14\n",
      "The PI value is: 3e+00\n",
      "The PI value is: 3\n"
     ]
    }
   ],
   "source": [
    "pi = 3.14159265359\n",
    "\n",
    "print(\"The PI value is: {:2.2f}\".format(pi))\n",
    "print(\"The PI value is: {:1.0e}\".format(pi))\n",
    "print(\"The PI value is: {:d}\".format(int(pi)))"
   ]
  },
  {
   "cell_type": "markdown",
   "metadata": {},
   "source": [
    "# Containers\n"
   ]
  },
  {
   "cell_type": "markdown",
   "metadata": {},
   "source": [
    "## List \n"
   ]
  },
  {
   "cell_type": "code",
   "execution_count": 12,
   "metadata": {},
   "outputs": [
    {
     "name": "stdout",
     "output_type": "stream",
     "text": [
      "Metal Gear Solid\n",
      "Final Fantasy\n"
     ]
    }
   ],
   "source": [
    "my_fav_videogames = [\"Metal Gear Solid\", \"Final Fantasy\", \"Rome Total War\"]\n",
    "print(my_fav_videogames[0])\n",
    "print(my_fav_videogames[1])\n",
    "\n"
   ]
  },
  {
   "cell_type": "code",
   "execution_count": 13,
   "metadata": {},
   "outputs": [
    {
     "name": "stdout",
     "output_type": "stream",
     "text": [
      "['Metal Gear Solid', 'Final Fantasy', 'Rome Total War', 'Pokemon Yellow']\n",
      "We just removed: Pokemon Yellow\n",
      "['Metal Gear Solid', 'Final Fantasy', 'Rome Total War']\n"
     ]
    }
   ],
   "source": [
    "# Ops, forgot to add something\n",
    "my_fav_videogames.append(\"Pokemon Yellow\")\n",
    "\n",
    "print(my_fav_videogames)\n",
    "\n",
    "removed_item = my_fav_videogames.pop(-1)\n",
    "print(\"We just removed: {}\".format(removed_item))\n",
    "\n",
    "print(my_fav_videogames)"
   ]
  },
  {
   "cell_type": "code",
   "execution_count": 14,
   "metadata": {},
   "outputs": [
    {
     "name": "stdout",
     "output_type": "stream",
     "text": [
      "['Grand Theft Auto', 'Final Fantasy', 'Rome Total War']\n"
     ]
    }
   ],
   "source": [
    "my_fav_videogames[0] = \"Grand Theft Auto\"\n",
    "\n",
    "print(my_fav_videogames)"
   ]
  },
  {
   "cell_type": "markdown",
   "metadata": {},
   "source": [
    "## List Slicing\n",
    "`list[begin:end:step]` (different from MATLAB)\n"
   ]
  },
  {
   "cell_type": "code",
   "execution_count": 15,
   "metadata": {},
   "outputs": [
    {
     "name": "stdout",
     "output_type": "stream",
     "text": [
      "['Grand Theft Auto', 'Final Fantasy', 'Rome Total War', 'Contra', 'Super Mario', 'Zelda']\n",
      "['Grand Theft Auto', 'Rome Total War', 'Super Mario']\n",
      "['Final Fantasy', 'Contra']\n",
      "['Zelda', 'Contra', 'Final Fantasy']\n"
     ]
    }
   ],
   "source": [
    "my_fav_videogames += [\"Contra\", \"Super Mario\", \"Zelda\"]\n",
    "print(my_fav_videogames)\n",
    "print(my_fav_videogames[0::2])\n",
    "print(my_fav_videogames[1:4:2])\n",
    "print(my_fav_videogames[::-2])"
   ]
  },
  {
   "cell_type": "markdown",
   "metadata": {},
   "source": [
    "## Tuple"
   ]
  },
  {
   "cell_type": "code",
   "execution_count": 16,
   "metadata": {},
   "outputs": [
    {
     "name": "stdout",
     "output_type": "stream",
     "text": [
      "('Metal Gear Solid', 'Final Fantasy', 'Rome Total War')\n"
     ]
    }
   ],
   "source": [
    "my_fav_videogames = (\"Metal Gear Solid\", \"Final Fantasy\", \"Rome Total War\")\n",
    "print(my_fav_videogames)"
   ]
  },
  {
   "cell_type": "code",
   "execution_count": 17,
   "metadata": {},
   "outputs": [
    {
     "ename": "TypeError",
     "evalue": "'tuple' object does not support item assignment",
     "output_type": "error",
     "traceback": [
      "\u001b[0;31m---------------------------------------------------------------------------\u001b[0m",
      "\u001b[0;31mTypeError\u001b[0m                                 Traceback (most recent call last)",
      "\u001b[0;32m<ipython-input-17-60de5a209a8c>\u001b[0m in \u001b[0;36m<module>\u001b[0;34m()\u001b[0m\n\u001b[0;32m----> 1\u001b[0;31m \u001b[0mmy_fav_videogames\u001b[0m\u001b[0;34m[\u001b[0m\u001b[0;36m0\u001b[0m\u001b[0;34m]\u001b[0m \u001b[0;34m=\u001b[0m \u001b[0;34m\"Call of Duty\"\u001b[0m\u001b[0;34m\u001b[0m\u001b[0m\n\u001b[0m",
      "\u001b[0;31mTypeError\u001b[0m: 'tuple' object does not support item assignment"
     ]
    }
   ],
   "source": [
    "my_fav_videogames[0] = \"Call of Duty\""
   ]
  },
  {
   "cell_type": "markdown",
   "metadata": {},
   "source": [
    "## Dictionary"
   ]
  },
  {
   "cell_type": "code",
   "execution_count": 18,
   "metadata": {},
   "outputs": [
    {
     "name": "stdout",
     "output_type": "stream",
     "text": [
      "Football\n"
     ]
    }
   ],
   "source": [
    "steam_account = {\n",
    "    \"Metal Gear Solid\": \"stealth\", \n",
    "    \"Final Fantasy\": \"RPG\",\n",
    "    \"FIFA 17\": \"Football\"\n",
    "}\n",
    "\n",
    "print(steam_account[\"FIFA 17\"])"
   ]
  },
  {
   "cell_type": "code",
   "execution_count": 19,
   "metadata": {},
   "outputs": [
    {
     "name": "stdout",
     "output_type": "stream",
     "text": [
      "dict_items([('Metal Gear Solid', 'stealth'), ('Final Fantasy', 'RPG'), ('FIFA 17', 'Football')])\n",
      "dict_keys(['Metal Gear Solid', 'Final Fantasy', 'FIFA 17'])\n"
     ]
    }
   ],
   "source": [
    "print(steam_account.items())\n",
    "print(steam_account.keys())"
   ]
  },
  {
   "cell_type": "code",
   "execution_count": 20,
   "metadata": {},
   "outputs": [
    {
     "name": "stdout",
     "output_type": "stream",
     "text": [
      "{'Metal Gear Solid': 'stealth', 'Final Fantasy': 'RPG', 'FIFA 17': 'Football', 'Call of Duty': 'Not a videogame'}\n"
     ]
    }
   ],
   "source": [
    "steam_account[\"Call of Duty\"] = \"Not a videogame\"\n",
    "print(steam_account)"
   ]
  },
  {
   "cell_type": "markdown",
   "metadata": {},
   "source": [
    "# Loops and flow control"
   ]
  },
  {
   "cell_type": "markdown",
   "metadata": {},
   "source": [
    "You can loop along so-called iterators. Iterators are general objects that implement the \"iterator protocol\". List, tuples, dictionary etc... can be iterated upon"
   ]
  },
  {
   "cell_type": "code",
   "execution_count": 21,
   "metadata": {},
   "outputs": [
    {
     "name": "stdout",
     "output_type": "stream",
     "text": [
      "Metal Gear Solid\n",
      "Final Fantasy\n",
      "Rome Total War\n"
     ]
    }
   ],
   "source": [
    "for item in my_fav_videogames: \n",
    "    print(item)"
   ]
  },
  {
   "cell_type": "code",
   "execution_count": 22,
   "metadata": {},
   "outputs": [
    {
     "name": "stdout",
     "output_type": "stream",
     "text": [
      "Metal Gear Solid\n",
      "Final Fantasy\n",
      "FIFA 17\n",
      "Call of Duty\n"
     ]
    }
   ],
   "source": [
    "for entry in steam_account:\n",
    "    print(entry)"
   ]
  },
  {
   "cell_type": "code",
   "execution_count": 23,
   "metadata": {},
   "outputs": [
    {
     "name": "stdout",
     "output_type": "stream",
     "text": [
      "Game: Metal Gear Solid\n",
      "Genre: stealth\n",
      "\n",
      "Game: Final Fantasy\n",
      "Genre: RPG\n",
      "\n",
      "Game: FIFA 17\n",
      "Genre: Football\n",
      "\n",
      "Game: Call of Duty\n",
      "Genre: Not a videogame\n",
      "\n"
     ]
    }
   ],
   "source": [
    "for game, genre in steam_account.items():\n",
    "    print(\"Game: {}\\nGenre: {}\\n\".format(game, genre))"
   ]
  },
  {
   "cell_type": "markdown",
   "metadata": {},
   "source": [
    "Sometimes you need also the index of the element in the list: "
   ]
  },
  {
   "cell_type": "code",
   "execution_count": 24,
   "metadata": {},
   "outputs": [
    {
     "name": "stdout",
     "output_type": "stream",
     "text": [
      "Metal Gear Solid is at position 0\n",
      "Final Fantasy is at position 1\n",
      "Rome Total War is at position 2\n"
     ]
    }
   ],
   "source": [
    "for i, item in enumerate(my_fav_videogames):\n",
    "    print(\"{} is at position {}\".format(item, i))"
   ]
  },
  {
   "cell_type": "markdown",
   "metadata": {},
   "source": [
    "Or do a loop on two lists of same size"
   ]
  },
  {
   "cell_type": "code",
   "execution_count": 25,
   "metadata": {},
   "outputs": [
    {
     "name": "stdout",
     "output_type": "stream",
     "text": [
      "Metal Gear Solid has rate 2\n",
      "Final Fantasy has rate 5\n",
      "Rome Total War has rate 3\n"
     ]
    }
   ],
   "source": [
    "ratings = (2,5,3)\n",
    "for game,rating in zip(my_fav_videogames,ratings):\n",
    "    print(\"{} has rate {}\".format(game, rating))"
   ]
  },
  {
   "cell_type": "code",
   "execution_count": null,
   "metadata": {},
   "outputs": [],
   "source": [
    "stop = False\n",
    "i = 30\n",
    "while not(stop):\n",
    "    if i%7 == 0:\n",
    "        stop = True\n",
    "        print(\"Stopped\")\n",
    "    i-= 1\n",
    "print(i)"
   ]
  },
  {
   "cell_type": "markdown",
   "metadata": {},
   "source": [
    "# I/O"
   ]
  },
  {
   "cell_type": "code",
   "execution_count": null,
   "metadata": {},
   "outputs": [],
   "source": [
    "with open('my_file.dat', 'w') as f:\n",
    "    f.write(\"First Line\\n\")\n",
    "    f.write(\"Second Line\\n\")\n",
    "    \n",
    "with open('my_file.dat', 'r') as f:\n",
    "    print(f.readlines())\n",
    "    # Reset cursor\n",
    "    f.seek(0)\n",
    "    print(f.readline())\n",
    "    print(f.read())"
   ]
  },
  {
   "cell_type": "code",
   "execution_count": null,
   "metadata": {},
   "outputs": [],
   "source": []
  }
 ],
 "metadata": {
  "celltoolbar": "Slideshow",
  "kernelspec": {
   "display_name": "Python 3",
   "language": "python",
   "name": "python3"
  },
  "language_info": {
   "codemirror_mode": {
    "name": "ipython",
    "version": 3
   },
   "file_extension": ".py",
   "mimetype": "text/x-python",
   "name": "python",
   "nbconvert_exporter": "python",
   "pygments_lexer": "ipython3",
   "version": "3.6.2"
  }
 },
 "nbformat": 4,
 "nbformat_minor": 2
}
