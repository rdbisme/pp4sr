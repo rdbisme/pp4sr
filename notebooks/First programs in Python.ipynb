{
 "cells": [
  {
   "cell_type": "markdown",
   "metadata": {
    "slideshow": {
     "slide_type": "slide"
    }
   },
   "source": [
    "# First steps with Python\n",
    "\n",
    "Python is a intepreted language, so no compilation involved, with dynamic typing (that means that variables can be of whatever type you want)"
   ]
  },
  {
   "cell_type": "code",
   "execution_count": null,
   "metadata": {
    "slideshow": {
     "slide_type": "-"
    }
   },
   "outputs": [],
   "source": [
    "name = \"RdB\"\n",
    "print(name)\n",
    "name = 1\n",
    "print(name)\n",
    "name = 1.0\n",
    "print(name)"
   ]
  },
  {
   "cell_type": "markdown",
   "metadata": {
    "slideshow": {
     "slide_type": "slide"
    }
   },
   "source": [
    "## Types\n",
    "You can check the type of a variable runtime: \n"
   ]
  },
  {
   "cell_type": "code",
   "execution_count": null,
   "metadata": {},
   "outputs": [],
   "source": [
    "type(name)"
   ]
  },
  {
   "cell_type": "code",
   "execution_count": null,
   "metadata": {},
   "outputs": [],
   "source": [
    "name = \"RdB\"\n",
    "type(name)"
   ]
  },
  {
   "cell_type": "markdown",
   "metadata": {
    "slideshow": {
     "slide_type": "slide"
    }
   },
   "source": [
    "## Numbers"
   ]
  },
  {
   "cell_type": "code",
   "execution_count": null,
   "metadata": {},
   "outputs": [],
   "source": [
    "a = 1\n",
    "b = 2\n",
    "a / b"
   ]
  },
  {
   "cell_type": "markdown",
   "metadata": {
    "slideshow": {
     "slide_type": "subslide"
    }
   },
   "source": [
    "## Python2 vs Python3 difference (warning!)"
   ]
  },
  {
   "cell_type": "markdown",
   "metadata": {},
   "source": [
    "Actually if you run this notebook with Python 2, the result of the division we made before will be **0**. Because in Python2 the division between two integers cast to an integer result (so it truncates the result). If you want to recover the same functionality you need to **import** from a special package named `__future__` the new version of the division operator:\n"
   ]
  },
  {
   "cell_type": "code",
   "execution_count": null,
   "metadata": {},
   "outputs": [],
   "source": [
    "from __future__ import division\n",
    "a /b"
   ]
  },
  {
   "cell_type": "markdown",
   "metadata": {
    "slideshow": {
     "slide_type": "slide"
    }
   },
   "source": [
    "## Strings\n",
    "\n"
   ]
  },
  {
   "cell_type": "code",
   "execution_count": null,
   "metadata": {},
   "outputs": [],
   "source": [
    "my_pokemon = \"Pikachu\"\n",
    "\n",
    "my_pokemon.upper()"
   ]
  },
  {
   "cell_type": "code",
   "execution_count": null,
   "metadata": {},
   "outputs": [],
   "source": [
    "my_pokemon.lower()"
   ]
  },
  {
   "cell_type": "markdown",
   "metadata": {
    "slideshow": {
     "slide_type": "slide"
    }
   },
   "source": [
    "## String Interpolation"
   ]
  },
  {
   "cell_type": "code",
   "execution_count": null,
   "metadata": {},
   "outputs": [],
   "source": [
    "print(\"My pokemon name is: {}\".format(my_pokemon))\n",
    "print(\"My pokemon name is: {name}\".format(name=my_pokemon))"
   ]
  },
  {
   "cell_type": "code",
   "execution_count": null,
   "metadata": {
    "slideshow": {
     "slide_type": "subslide"
    }
   },
   "outputs": [],
   "source": [
    "pi = 3.14159265359\n",
    "\n",
    "print(\"The PI value is: {:2.2f}\".format(pi))\n",
    "print(\"The PI value is: {:1.0e}\".format(pi))\n",
    "print(\"The PI value is: {:d}\".format(int(pi)))"
   ]
  },
  {
   "cell_type": "markdown",
   "metadata": {
    "slideshow": {
     "slide_type": "slide"
    }
   },
   "source": [
    "# Containers\n"
   ]
  },
  {
   "cell_type": "markdown",
   "metadata": {},
   "source": [
    "## List \n"
   ]
  },
  {
   "cell_type": "code",
   "execution_count": null,
   "metadata": {},
   "outputs": [],
   "source": [
    "my_fav_videogames = [\"Metal Gear Solid\", \"Final Fantasy\", \"Rome Total War\"]\n",
    "print(my_fav_videogames[0])\n",
    "print(my_fav_videogames[1])\n",
    "\n"
   ]
  },
  {
   "cell_type": "code",
   "execution_count": null,
   "metadata": {
    "slideshow": {
     "slide_type": "subslide"
    }
   },
   "outputs": [],
   "source": [
    "# Ops, forgot to add something\n",
    "my_fav_videogames.append(\"Pokemon Yellow\")\n",
    "\n",
    "print(my_fav_videogames)\n",
    "\n",
    "removed_item = my_fav_videogames.pop(-1)\n",
    "print(\"We just removed: {}\".format(removed_item))\n",
    "\n",
    "print(my_fav_videogames)"
   ]
  },
  {
   "cell_type": "code",
   "execution_count": null,
   "metadata": {},
   "outputs": [],
   "source": [
    "my_fav_videogames[0] = \"Grand Theft Auto\"\n",
    "\n",
    "print(my_fav_videogames)"
   ]
  },
  {
   "cell_type": "markdown",
   "metadata": {
    "slideshow": {
     "slide_type": "subslide"
    }
   },
   "source": [
    "## List Slicing\n",
    "`list[begin:end:step]` (different from MATLAB)\n"
   ]
  },
  {
   "cell_type": "code",
   "execution_count": null,
   "metadata": {},
   "outputs": [],
   "source": [
    "my_fav_videogames += [\"Contra\", \"Super Mario\", \"Zelda\"]\n",
    "print(my_fav_videogames)\n",
    "print(my_fav_videogames[0::2])\n",
    "print(my_fav_videogames[1:4:2])\n",
    "print(my_fav_videogames[::-2])"
   ]
  },
  {
   "cell_type": "markdown",
   "metadata": {
    "slideshow": {
     "slide_type": "slide"
    }
   },
   "source": [
    "## Tuple"
   ]
  },
  {
   "cell_type": "code",
   "execution_count": null,
   "metadata": {},
   "outputs": [],
   "source": [
    "my_fav_videogames = (\"Metal Gear Solid\", \"Final Fantasy\", \"Rome Total War\")\n",
    "print(my_fav_videogames)"
   ]
  },
  {
   "cell_type": "code",
   "execution_count": null,
   "metadata": {},
   "outputs": [],
   "source": [
    "my_fav_videogames[0] = \"Call of Duty\""
   ]
  },
  {
   "cell_type": "markdown",
   "metadata": {
    "slideshow": {
     "slide_type": "slide"
    }
   },
   "source": [
    "## Dictionary"
   ]
  },
  {
   "cell_type": "code",
   "execution_count": null,
   "metadata": {},
   "outputs": [],
   "source": [
    "steam_account = {\n",
    "    \"Metal Gear Solid\": \"stealth\", \n",
    "    \"Final Fantasy\": \"RPG\",\n",
    "    \"FIFA 17\": \"Football\"\n",
    "}\n",
    "\n",
    "print(steam_account[\"FIFA 17\"])"
   ]
  },
  {
   "cell_type": "code",
   "execution_count": null,
   "metadata": {},
   "outputs": [],
   "source": [
    "print(steam_account.items())\n",
    "print(steam_account.keys())"
   ]
  },
  {
   "cell_type": "code",
   "execution_count": null,
   "metadata": {},
   "outputs": [],
   "source": [
    "steam_account[\"Call of Duty\"] = \"Not a videogame\"\n",
    "print(steam_account)"
   ]
  },
  {
   "cell_type": "markdown",
   "metadata": {
    "slideshow": {
     "slide_type": "slide"
    }
   },
   "source": [
    "# Loops and flow control"
   ]
  },
  {
   "cell_type": "markdown",
   "metadata": {},
   "source": [
    "You can loop along so-called iterators. Iterators are general objects that implement the \"iterator protocol\". List, tuples, dictionary etc... can be iterated upon"
   ]
  },
  {
   "cell_type": "code",
   "execution_count": null,
   "metadata": {},
   "outputs": [],
   "source": [
    "for item in my_fav_videogames: \n",
    "    print(item)"
   ]
  },
  {
   "cell_type": "code",
   "execution_count": null,
   "metadata": {},
   "outputs": [],
   "source": [
    "for entry in steam_account:\n",
    "    print(entry)"
   ]
  },
  {
   "cell_type": "code",
   "execution_count": null,
   "metadata": {
    "slideshow": {
     "slide_type": "subslide"
    }
   },
   "outputs": [],
   "source": [
    "for game, genre in steam_account.items():\n",
    "    print(\"Game: {}\\nGenre: {}\\n\".format(game, genre))"
   ]
  },
  {
   "cell_type": "markdown",
   "metadata": {
    "slideshow": {
     "slide_type": "subslide"
    }
   },
   "source": [
    "Sometimes you need also the index of the element in the list: "
   ]
  },
  {
   "cell_type": "code",
   "execution_count": null,
   "metadata": {},
   "outputs": [],
   "source": [
    "for i, item in enumerate(my_fav_videogames):\n",
    "    print(\"{} is at position {}\".format(item, i))"
   ]
  },
  {
   "cell_type": "markdown",
   "metadata": {
    "slideshow": {
     "slide_type": "subslide"
    }
   },
   "source": [
    "Or do a loop on two lists of same size"
   ]
  },
  {
   "cell_type": "code",
   "execution_count": null,
   "metadata": {},
   "outputs": [],
   "source": [
    "ratings = (2,5,3)\n",
    "for game, rating in zip(my_fav_videogames,ratings):\n",
    "    print(\"{} has rate {}\".format(game, rating))"
   ]
  },
  {
   "cell_type": "markdown",
   "metadata": {
    "slideshow": {
     "slide_type": "slide"
    }
   },
   "source": [
    "# While Loop \n",
    "(Not really used in Python, generally you can do better with `for` and iterators\n"
   ]
  },
  {
   "cell_type": "code",
   "execution_count": null,
   "metadata": {
    "slideshow": {
     "slide_type": "subslide"
    }
   },
   "outputs": [],
   "source": [
    "stop = False\n",
    "i = 30\n",
    "while not(stop):\n",
    "    if i%7 == 0:\n",
    "        stop = True\n",
    "        print(\"Stopped\")\n",
    "    i-= 1\n",
    "print(i)"
   ]
  },
  {
   "cell_type": "markdown",
   "metadata": {
    "slideshow": {
     "slide_type": "slide"
    }
   },
   "source": [
    "# I/O"
   ]
  },
  {
   "cell_type": "code",
   "execution_count": null,
   "metadata": {},
   "outputs": [],
   "source": [
    "with open('my_file.dat', 'w') as f:\n",
    "    f.write(\"First Line\\n\")\n",
    "    f.write(\"Second Line\\n\")\n",
    "    \n",
    "with open('my_file.dat', 'r') as f:\n",
    "    print(f.readlines())\n",
    "    # Reset cursor\n",
    "    f.seek(0)\n",
    "    print(f.readline())\n",
    "    print(f.read())"
   ]
  }
 ],
 "metadata": {
  "language_info": {
   "name": "python",
   "pygments_lexer": "ipython3"
  },
  "celltoolbar": "Slideshow"
 },
 "nbformat": 4,
 "nbformat_minor": 2
}
